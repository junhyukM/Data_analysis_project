{
 "cells": [
  {
   "cell_type": "markdown",
   "id": "35b8dac8",
   "metadata": {},
   "source": [
    "## 기본적인 전처리가 진행된 데이터를 평균이라는 기본적인 통계량을 통해 살펴보자.\n",
    "- 기본적인 column들의 특징 파악"
   ]
  },
  {
   "cell_type": "code",
   "execution_count": 1,
   "id": "041e3405",
   "metadata": {},
   "outputs": [],
   "source": [
    "import pandas as pd\n",
    "import numpy as np\n",
    "import math\n",
    "from scipy.stats import *\n",
    "import seaborn as sns"
   ]
  },
  {
   "cell_type": "code",
   "execution_count": 2,
   "id": "ef93d87a",
   "metadata": {},
   "outputs": [],
   "source": [
    "import matplotlib.pyplot as plt #그래프 패키지 모듈 등록\n",
    "%matplotlib inline "
   ]
  },
  {
   "cell_type": "code",
   "execution_count": 3,
   "id": "9b7f0dc8",
   "metadata": {},
   "outputs": [],
   "source": [
    "import platform\n",
    "\n",
    "from matplotlib import font_manager, rc\n",
    "plt.rcParams['axes.unicode_minus'] = False\n",
    "\n",
    "if platform.system() == 'Darwin':  # 맥OS \n",
    "    rc('font', family='AppleGothic')\n",
    "elif platform.system() == 'Windows':  # 윈도우\n",
    "    path = \"c:/Windows/Fonts/malgun.ttf\"\n",
    "    font_name = font_manager.FontProperties(fname=path).get_name()\n",
    "    rc('font', family=font_name)\n",
    "else:\n",
    "    print('Unknown system...  sorry~~~')"
   ]
  },
  {
   "cell_type": "code",
   "execution_count": 4,
   "id": "6192dc07",
   "metadata": {},
   "outputs": [],
   "source": [
    "# 경고 메시지 무시 설정\n",
    "import warnings\n",
    "warnings.filterwarnings(action='ignore')"
   ]
  },
  {
   "cell_type": "code",
   "execution_count": 5,
   "id": "b59cb46a",
   "metadata": {},
   "outputs": [],
   "source": [
    "df = pd.read_csv('./data/서울생활이동_전처리데이터.csv', index_col= 0)"
   ]
  },
  {
   "cell_type": "code",
   "execution_count": 6,
   "id": "206d88f5",
   "metadata": {},
   "outputs": [
    {
     "data": {
      "text/html": [
       "<div>\n",
       "<style scoped>\n",
       "    .dataframe tbody tr th:only-of-type {\n",
       "        vertical-align: middle;\n",
       "    }\n",
       "\n",
       "    .dataframe tbody tr th {\n",
       "        vertical-align: top;\n",
       "    }\n",
       "\n",
       "    .dataframe thead th {\n",
       "        text-align: right;\n",
       "    }\n",
       "</style>\n",
       "<table border=\"1\" class=\"dataframe\">\n",
       "  <thead>\n",
       "    <tr style=\"text-align: right;\">\n",
       "      <th></th>\n",
       "      <th>대상연월</th>\n",
       "      <th>요일</th>\n",
       "      <th>성별</th>\n",
       "      <th>나이</th>\n",
       "      <th>평균 이동 시간(분)</th>\n",
       "      <th>이동인구(합)</th>\n",
       "      <th>출발 지역명</th>\n",
       "      <th>도착 지역명</th>\n",
       "    </tr>\n",
       "  </thead>\n",
       "  <tbody>\n",
       "    <tr>\n",
       "      <th>0</th>\n",
       "      <td>202306</td>\n",
       "      <td>월</td>\n",
       "      <td>F</td>\n",
       "      <td>25</td>\n",
       "      <td>35</td>\n",
       "      <td>16</td>\n",
       "      <td>종로구</td>\n",
       "      <td>종로구</td>\n",
       "    </tr>\n",
       "    <tr>\n",
       "      <th>1</th>\n",
       "      <td>202306</td>\n",
       "      <td>월</td>\n",
       "      <td>F</td>\n",
       "      <td>30</td>\n",
       "      <td>14</td>\n",
       "      <td>24</td>\n",
       "      <td>종로구</td>\n",
       "      <td>종로구</td>\n",
       "    </tr>\n",
       "    <tr>\n",
       "      <th>2</th>\n",
       "      <td>202306</td>\n",
       "      <td>월</td>\n",
       "      <td>F</td>\n",
       "      <td>35</td>\n",
       "      <td>7</td>\n",
       "      <td>18</td>\n",
       "      <td>종로구</td>\n",
       "      <td>종로구</td>\n",
       "    </tr>\n",
       "    <tr>\n",
       "      <th>3</th>\n",
       "      <td>202306</td>\n",
       "      <td>월</td>\n",
       "      <td>F</td>\n",
       "      <td>40</td>\n",
       "      <td>19</td>\n",
       "      <td>27</td>\n",
       "      <td>종로구</td>\n",
       "      <td>종로구</td>\n",
       "    </tr>\n",
       "    <tr>\n",
       "      <th>4</th>\n",
       "      <td>202306</td>\n",
       "      <td>월</td>\n",
       "      <td>F</td>\n",
       "      <td>45</td>\n",
       "      <td>15</td>\n",
       "      <td>16</td>\n",
       "      <td>종로구</td>\n",
       "      <td>종로구</td>\n",
       "    </tr>\n",
       "  </tbody>\n",
       "</table>\n",
       "</div>"
      ],
      "text/plain": [
       "     대상연월 요일 성별  나이  평균 이동 시간(분)  이동인구(합) 출발 지역명 도착 지역명\n",
       "0  202306  월  F  25           35       16    종로구    종로구\n",
       "1  202306  월  F  30           14       24    종로구    종로구\n",
       "2  202306  월  F  35            7       18    종로구    종로구\n",
       "3  202306  월  F  40           19       27    종로구    종로구\n",
       "4  202306  월  F  45           15       16    종로구    종로구"
      ]
     },
     "execution_count": 6,
     "metadata": {},
     "output_type": "execute_result"
    }
   ],
   "source": [
    "df.head()"
   ]
  },
  {
   "cell_type": "code",
   "execution_count": 7,
   "id": "063dc563",
   "metadata": {},
   "outputs": [
    {
     "name": "stdout",
     "output_type": "stream",
     "text": [
      "<class 'pandas.core.frame.DataFrame'>\n",
      "Index: 16016624 entries, 0 to 16016623\n",
      "Data columns (total 8 columns):\n",
      " #   Column       Non-Null Count     Dtype \n",
      "---  ------       --------------     ----- \n",
      " 0   대상연월         16016624 non-null  int64 \n",
      " 1   요일           16016624 non-null  object\n",
      " 2   성별           16016624 non-null  object\n",
      " 3   나이           16016624 non-null  int64 \n",
      " 4   평균 이동 시간(분)  16016624 non-null  int64 \n",
      " 5   이동인구(합)      16016624 non-null  int64 \n",
      " 6   출발 지역명       16016624 non-null  object\n",
      " 7   도착 지역명       16016624 non-null  object\n",
      "dtypes: int64(4), object(4)\n",
      "memory usage: 1.1+ GB\n"
     ]
    }
   ],
   "source": [
    "df.info(show_counts=True)"
   ]
  },
  {
   "cell_type": "markdown",
   "id": "5656b7aa",
   "metadata": {},
   "source": [
    "### '총 이동시간의 합' 에 대한 고민이 있었음. => 하나의 row에 작성된 이동인구(합)의 의미를 적용하기 위해\n",
    "\n",
    "- 해당 내용에 대해 생각 정리가 잘 안되고 설명이 모호해서 서칭\n",
    "- 출처[평균의 평균, 과연 전체 평균과 같을까요?] https://ballpen.blog/%ED%8F%89%EA%B7%A0%EC%9D%98-%ED%8F%89%EA%B7%A0-%EA%B3%BC%EC%97%B0-%EC%A0%84%EC%B2%B4-%ED%8F%89%EA%B7%A0%EA%B3%BC-%EA%B0%99%EC%9D%84%EA%B9%8C%EC%9A%94/\n"
   ]
  },
  {
   "cell_type": "code",
   "execution_count": 8,
   "id": "a83254bb",
   "metadata": {},
   "outputs": [
    {
     "data": {
      "text/plain": [
       "62.86928815903505"
      ]
     },
     "execution_count": 8,
     "metadata": {},
     "output_type": "execute_result"
    }
   ],
   "source": [
    "# 데이터에 있는 모든 이동시간의 합\n",
    "# 그냥 df['평균 이동 시간(분)'].mean() 은 다른 결과가 나온다.\n",
    "(df['평균 이동 시간(분)'] * df['이동인구(합)']).sum() / df['이동인구(합)'].sum()"
   ]
  },
  {
   "cell_type": "code",
   "execution_count": 9,
   "id": "d850942d",
   "metadata": {},
   "outputs": [
    {
     "data": {
      "text/plain": [
       "61.291843462142836"
      ]
     },
     "execution_count": 9,
     "metadata": {},
     "output_type": "execute_result"
    }
   ],
   "source": [
    "# 각 row마다 인원수가 다르기 때문에 모든 인구수를 반영한 평균값과 다르다.\n",
    "df['평균 이동 시간(분)'].mean()"
   ]
  },
  {
   "cell_type": "markdown",
   "id": "07ff8ca7",
   "metadata": {},
   "source": [
    "#### ** 모든 출근자들의 평균 이동시간: 평균적으로 출근 시 약 63분의 시간을 소요한다."
   ]
  },
  {
   "cell_type": "markdown",
   "id": "8854b28d",
   "metadata": {},
   "source": [
    "### 각 column 들의 기본적인 통계량 파악"
   ]
  },
  {
   "cell_type": "markdown",
   "id": "c969f18a",
   "metadata": {},
   "source": [
    "#### 데이터에 있는 전체 이동 인구수"
   ]
  },
  {
   "cell_type": "code",
   "execution_count": 10,
   "id": "5d1e364b",
   "metadata": {},
   "outputs": [
    {
     "data": {
      "text/plain": [
       "134917425"
      ]
     },
     "execution_count": 10,
     "metadata": {},
     "output_type": "execute_result"
    }
   ],
   "source": [
    "df['이동인구(합)'].sum()"
   ]
  },
  {
   "cell_type": "markdown",
   "id": "30c63a0f",
   "metadata": {},
   "source": [
    "#### 요일별 출근인원 수"
   ]
  },
  {
   "cell_type": "code",
   "execution_count": 11,
   "id": "60bfc8cd",
   "metadata": {},
   "outputs": [
    {
     "data": {
      "text/plain": [
       "요일\n",
       "월    25346431\n",
       "화    27060096\n",
       "수    28578099\n",
       "목    28143744\n",
       "금    25789055\n",
       "Name: 이동인구(합), dtype: int64"
      ]
     },
     "execution_count": 11,
     "metadata": {},
     "output_type": "execute_result"
    }
   ],
   "source": [
    "dow = df.groupby('요일')['이동인구(합)'].sum()\n",
    "dow = dow.reindex(['월','화','수','목','금'])\n",
    "dow"
   ]
  },
  {
   "cell_type": "code",
   "execution_count": 12,
   "id": "e1533a03",
   "metadata": {},
   "outputs": [
    {
     "data": {
      "text/plain": [
       "(15000000.0, 30007003.95)"
      ]
     },
     "execution_count": 12,
     "metadata": {},
     "output_type": "execute_result"
    },
    {
     "data": {
      "image/png": "[encoded data removed]",
      "text/plain": [
       "<Figure size 500x500 with 1 Axes>"
      ]
     },
     "metadata": {},
     "output_type": "display_data"
    }
   ],
   "source": [
    "plt.figure(figsize=(5,5))\n",
    "plt.bar(dow.index, dow.values, )\n",
    "plt.ylim(15000000,)"
   ]
  },
  {
   "cell_type": "markdown",
   "id": "227f825e",
   "metadata": {},
   "source": [
    "#### **요일에 따른 출근 인원 수의 차이가 약간 있음. 25,300,000 ~ 28,500,000 명 사이 정도"
   ]
  },
  {
   "cell_type": "markdown",
   "id": "35153364",
   "metadata": {},
   "source": [
    "- 월요일과 금요일이 화~목 보다 전체 출근인원이 적은 이유는 일반적으로 연차사용을 월요일 또는 금요일에 많이 하기 때문인 것으로 추청"
   ]
  },
  {
   "cell_type": "markdown",
   "id": "941a628b",
   "metadata": {},
   "source": [
    "#### 요일 별 출근 소요시간 평균\n",
    "- 다른 column들의 이동시간 평균 또는 통계량을 구하는 것 까지 고려해서 작업이 용이하도록, '인구수반영 총 시간' column 추가"
   ]
  },
  {
   "cell_type": "code",
   "execution_count": 13,
   "id": "286eb2bc",
   "metadata": {},
   "outputs": [],
   "source": [
    "df['인구수반영 총 시간'] = df['이동인구(합)'] * df['평균 이동 시간(분)']\n",
    "\n",
    "# groupby를 '요일' 기준으로 진행하고 sum으로 더한 값을 나누어 각 요일별 평균 이동시간을 구함\n",
    "dow_gtw = df.groupby('요일')['인구수반영 총 시간'].sum() / df.groupby('요일')['이동인구(합)'].sum()"
   ]
  },
  {
   "cell_type": "code",
   "execution_count": 14,
   "id": "0ff49860",
   "metadata": {},
   "outputs": [],
   "source": [
    "dow_gtw = dow_gtw.reindex(['월','화','수','목','금'])"
   ]
  },
  {
   "cell_type": "code",
   "execution_count": 15,
   "id": "8edcc10a",
   "metadata": {
    "scrolled": true
   },
   "outputs": [
    {
     "data": {
      "text/plain": [
       "요일\n",
       "월    62.721994\n",
       "화    63.398308\n",
       "수    63.591653\n",
       "목    63.250257\n",
       "금    61.242720\n",
       "dtype: float64"
      ]
     },
     "execution_count": 15,
     "metadata": {},
     "output_type": "execute_result"
    }
   ],
   "source": [
    "dow_gtw"
   ]
  },
  {
   "cell_type": "code",
   "execution_count": 16,
   "id": "ff8f2a23",
   "metadata": {},
   "outputs": [
    {
     "data": {
      "text/plain": [
       "<BarContainer object of 5 artists>"
      ]
     },
     "execution_count": 16,
     "metadata": {},
     "output_type": "execute_result"
    },
    {
     "data": {
      "image/png": "[encoded data removed]",
      "text/plain": [
       "<Figure size 400x400 with 1 Axes>"
      ]
     },
     "metadata": {},
     "output_type": "display_data"
    }
   ],
   "source": [
    "plt.figure(figsize=(4,4))\n",
    "plt.bar(dow_gtw.index, dow_gtw.values, color='g')"
   ]
  },
  {
   "cell_type": "markdown",
   "id": "370e4978",
   "metadata": {},
   "source": [
    "#### **요일별 출근 소요시간의 편차는 거의 없다고 판단 가능."
   ]
  },
  {
   "cell_type": "markdown",
   "id": "b2c4e72a",
   "metadata": {},
   "source": [
    "#### 성별에 따른 출근인원 수"
   ]
  },
  {
   "cell_type": "code",
   "execution_count": 17,
   "id": "f1474ae0",
   "metadata": {},
   "outputs": [
    {
     "data": {
      "text/plain": [
       "성별\n",
       "F    72459323\n",
       "M    62458102\n",
       "Name: 이동인구(합), dtype: int64"
      ]
     },
     "execution_count": 17,
     "metadata": {},
     "output_type": "execute_result"
    }
   ],
   "source": [
    "gender = df.groupby('성별')['이동인구(합)'].sum()\n",
    "gender"
   ]
  },
  {
   "cell_type": "code",
   "execution_count": 18,
   "id": "b3a8ec44",
   "metadata": {},
   "outputs": [
    {
     "data": {
      "text/plain": [
       "<BarContainer object of 2 artists>"
      ]
     },
     "execution_count": 18,
     "metadata": {},
     "output_type": "execute_result"
    },
    {
     "data": {
      "image/png": "[encoded data removed]",
      "text/plain": [
       "<Figure size 400x400 with 1 Axes>"
      ]
     },
     "metadata": {},
     "output_type": "display_data"
    }
   ],
   "source": [
    "plt.figure(figsize=(4,4))\n",
    "plt.bar(gender.index, gender.values, color='b')"
   ]
  },
  {
   "cell_type": "markdown",
   "id": "4c25c48e",
   "metadata": {},
   "source": [
    "#### ** 출근인원 수는 여성이 남성보다 조금 더 많다\n",
    "- 개인적인 예상으로는 남성이 주로 근무하는 제조업 관련 회사들은 서울보다는 다른 지역에 많이 분포해 있기 때문인 것으로 추정"
   ]
  },
  {
   "cell_type": "markdown",
   "id": "72051c7d",
   "metadata": {},
   "source": [
    "#### 성별에 따른 출근 소요시간 평균"
   ]
  },
  {
   "cell_type": "code",
   "execution_count": 19,
   "id": "cd98b822",
   "metadata": {},
   "outputs": [],
   "source": [
    "gender_gtw = df.groupby('성별')['인구수반영 총 시간'].sum() / df.groupby('성별')['이동인구(합)'].sum()"
   ]
  },
  {
   "cell_type": "code",
   "execution_count": 20,
   "id": "1a8d34ff",
   "metadata": {},
   "outputs": [
    {
     "data": {
      "text/plain": [
       "성별\n",
       "F    60.380154\n",
       "M    65.757000\n",
       "dtype: float64"
      ]
     },
     "execution_count": 20,
     "metadata": {},
     "output_type": "execute_result"
    }
   ],
   "source": [
    "gender_gtw"
   ]
  },
  {
   "cell_type": "code",
   "execution_count": 21,
   "id": "532af1a3",
   "metadata": {},
   "outputs": [
    {
     "data": {
      "text/plain": [
       "<BarContainer object of 2 artists>"
      ]
     },
     "execution_count": 21,
     "metadata": {},
     "output_type": "execute_result"
    },
    {
     "data": {
      "image/png": "[encoded data removed]",
      "text/plain": [
       "<Figure size 400x400 with 1 Axes>"
      ]
     },
     "metadata": {},
     "output_type": "display_data"
    }
   ],
   "source": [
    "plt.figure(figsize=(4,4))\n",
    "plt.bar(gender_gtw.index, gender_gtw.values, color='r')"
   ]
  },
  {
   "cell_type": "markdown",
   "id": "5444b117",
   "metadata": {},
   "source": [
    "#### ** 출근 소요시간은 차이가 거의 없다 (평균 약 5분 남자가 더 소요)"
   ]
  },
  {
   "cell_type": "markdown",
   "id": "b6aa83fd",
   "metadata": {},
   "source": [
    "#### 나이대 별 출근인원 수"
   ]
  },
  {
   "cell_type": "code",
   "execution_count": 22,
   "id": "1de9cd9f",
   "metadata": {},
   "outputs": [
    {
     "data": {
      "text/plain": [
       "나이\n",
       "20     7695066\n",
       "25    16826141\n",
       "30    17240083\n",
       "35    14719403\n",
       "40    15633585\n",
       "45    13466503\n",
       "50    13791879\n",
       "55    10827524\n",
       "60     9609322\n",
       "65     6473156\n",
       "70     3448234\n",
       "75     2352904\n",
       "80     2833625\n",
       "Name: 이동인구(합), dtype: int64"
      ]
     },
     "execution_count": 22,
     "metadata": {},
     "output_type": "execute_result"
    }
   ],
   "source": [
    "age = df.groupby('나이')['이동인구(합)'].sum()\n",
    "age"
   ]
  },
  {
   "cell_type": "code",
   "execution_count": 23,
   "id": "0a22a7ac",
   "metadata": {},
   "outputs": [
    {
     "data": {
      "image/png": "[encoded data removed]",
      "text/plain": [
       "<Figure size 400x400 with 1 Axes>"
      ]
     },
     "metadata": {},
     "output_type": "display_data"
    }
   ],
   "source": [
    "plt.figure(figsize=(4,4))\n",
    "plt.bar(age.index, age.values, color='b')\n",
    "plt.plot(age.index, age.values, color='r', marker='o')\n",
    "plt.xticks(age.index)\n",
    "plt.show()"
   ]
  },
  {
   "cell_type": "markdown",
   "id": "b6833e99",
   "metadata": {},
   "source": [
    "#### ** 출근인원수 Top7 의 나이대는 25 ~ 54세이다.\n",
    "- 사회활동을 가장 많이 하는 나이대라는 선입견에 알맞는 결과"
   ]
  },
  {
   "cell_type": "markdown",
   "id": "ed7b7cca",
   "metadata": {},
   "source": [
    "#### 나이대 별 출근 소요시간 평균"
   ]
  },
  {
   "cell_type": "code",
   "execution_count": 24,
   "id": "ee04cfa6",
   "metadata": {},
   "outputs": [],
   "source": [
    "age_gtw = df.groupby('나이')['인구수반영 총 시간'].sum() / df.groupby('나이')['이동인구(합)'].sum()"
   ]
  },
  {
   "cell_type": "code",
   "execution_count": 25,
   "id": "b52f0afe",
   "metadata": {},
   "outputs": [
    {
     "data": {
      "text/plain": [
       "나이\n",
       "20    62.923857\n",
       "25    70.324531\n",
       "30    69.232455\n",
       "35    65.925551\n",
       "40    65.400465\n",
       "45    63.533266\n",
       "50    61.971241\n",
       "55    57.036907\n",
       "60    53.906966\n",
       "65    51.995965\n",
       "70    51.469256\n",
       "75    51.843831\n",
       "80    51.657774\n",
       "dtype: float64"
      ]
     },
     "execution_count": 25,
     "metadata": {},
     "output_type": "execute_result"
    }
   ],
   "source": [
    "age_gtw"
   ]
  },
  {
   "cell_type": "code",
   "execution_count": 26,
   "id": "83b14fa5",
   "metadata": {},
   "outputs": [
    {
     "data": {
      "image/png": "[encoded data removed]",
      "text/plain": [
       "<Figure size 400x400 with 1 Axes>"
      ]
     },
     "metadata": {},
     "output_type": "display_data"
    }
   ],
   "source": [
    "plt.figure(figsize=(4,4))\n",
    "plt.bar(age_gtw.index, age_gtw.values, width=2, color='y')\n",
    "plt.plot(age_gtw.index, age_gtw.values, color='g', marker='o')\n",
    "plt.xticks(age_gtw.index)\n",
    "plt.show()"
   ]
  },
  {
   "cell_type": "markdown",
   "id": "153a8c04",
   "metadata": {},
   "source": [
    "#### ** 20~24세 를 제외하고는 나이가 많아질 수록 평균 출근 소요시간이 적어지는 경향을 발견.\n",
    "- 20 ~ 24세는 출근 보다는 대학교 통학의 경우가 많을 것이라 예측(자취생). 하지만 해당 데이터를 제외하기엔 통학하는 인구수가\n",
    "- 출근시간에도 영향을 미친다는 점. 통학이 아니라 출근을 하는 경우도 많이 있을 수 있다는 점 때문에 해당 데이터도 사용"
   ]
  },
  {
   "cell_type": "markdown",
   "id": "ea63081e",
   "metadata": {},
   "source": [
    "#### 대상연월 별 출근인원 수\n",
    "- 데이터 취합 연월(2023년 4월 ~ 2023년 6월)간의 차이가 있는지 확인"
   ]
  },
  {
   "cell_type": "code",
   "execution_count": 27,
   "id": "f29e00b9",
   "metadata": {},
   "outputs": [
    {
     "data": {
      "text/plain": [
       "대상연월\n",
       "202304    43969497\n",
       "202305    45623590\n",
       "202306    45324338\n",
       "Name: 이동인구(합), dtype: int64"
      ]
     },
     "execution_count": 27,
     "metadata": {},
     "output_type": "execute_result"
    }
   ],
   "source": [
    "yearm = df.groupby('대상연월')['이동인구(합)'].sum()\n",
    "yearm"
   ]
  },
  {
   "cell_type": "code",
   "execution_count": 28,
   "id": "e1e86dbc",
   "metadata": {},
   "outputs": [
    {
     "data": {
      "image/png": "[encoded data removed]",
      "text/plain": [
       "<Figure size 400x400 with 1 Axes>"
      ]
     },
     "metadata": {},
     "output_type": "display_data"
    }
   ],
   "source": [
    "plt.figure(figsize=(4,4))\n",
    "plt.bar(yearm.index, yearm.values, color='b')\n",
    "plt.ylim(10000000)\n",
    "plt.xticks(yearm.index)\n",
    "plt.show()"
   ]
  },
  {
   "cell_type": "markdown",
   "id": "e51787d4",
   "metadata": {},
   "source": [
    "#### ** 대상연월에 따른 출근인원 수의 차이는 없다고 판단. (휴가철이나 연말 연초 데이터가 포함되지 않아서 그런 것으로 추정)"
   ]
  },
  {
   "cell_type": "markdown",
   "id": "9a3c6f91",
   "metadata": {},
   "source": [
    "#### 대상연월 별 출근 소요시간 평균"
   ]
  },
  {
   "cell_type": "code",
   "execution_count": 29,
   "id": "709e0d52",
   "metadata": {},
   "outputs": [],
   "source": [
    "yearm_gtw = df.groupby('대상연월')['인구수반영 총 시간'].sum() / df.groupby('대상연월')['이동인구(합)'].sum()"
   ]
  },
  {
   "cell_type": "code",
   "execution_count": 30,
   "id": "2f108259",
   "metadata": {},
   "outputs": [
    {
     "data": {
      "text/plain": [
       "대상연월\n",
       "202304    63.366298\n",
       "202305    62.446100\n",
       "202306    62.813117\n",
       "dtype: float64"
      ]
     },
     "execution_count": 30,
     "metadata": {},
     "output_type": "execute_result"
    }
   ],
   "source": [
    "yearm_gtw"
   ]
  },
  {
   "cell_type": "code",
   "execution_count": 31,
   "id": "cb0eae27",
   "metadata": {
    "scrolled": false
   },
   "outputs": [
    {
     "data": {
      "text/plain": [
       "<BarContainer object of 3 artists>"
      ]
     },
     "execution_count": 31,
     "metadata": {},
     "output_type": "execute_result"
    },
    {
     "data": {
      "image/png": "[encoded data removed]",
      "text/plain": [
       "<Figure size 400x400 with 1 Axes>"
      ]
     },
     "metadata": {},
     "output_type": "display_data"
    }
   ],
   "source": [
    "plt.figure(figsize=(4,4))\n",
    "plt.bar(yearm_gtw.index, yearm_gtw.values, color='y')"
   ]
  },
  {
   "cell_type": "markdown",
   "id": "1d48b3a6",
   "metadata": {},
   "source": [
    "#### ** 출근 소요시간 또한 월별 차이는 없다고 판단"
   ]
  },
  {
   "cell_type": "markdown",
   "id": "53772805",
   "metadata": {},
   "source": [
    "### 지역별 출근인원 수\n",
    "- 도착지를 기준으로 진행"
   ]
  },
  {
   "cell_type": "code",
   "execution_count": 33,
   "id": "86680e7e",
   "metadata": {},
   "outputs": [],
   "source": [
    "desti = df.groupby('도착 지역명')['이동인구(합)'].sum()\n",
    "desti.sort_values(ascending=False, inplace=True)"
   ]
  },
  {
   "cell_type": "code",
   "execution_count": 34,
   "id": "d3ec8c75",
   "metadata": {},
   "outputs": [
    {
     "data": {
      "text/plain": [
       "도착 지역명\n",
       "강남구     19389477\n",
       "중구      11130936\n",
       "서초구     10790503\n",
       "영등포구     8898643\n",
       "송파구      8144651\n",
       "종로구      7710910\n",
       "마포구      6748847\n",
       "강서구      5420870\n",
       "성동구      5122709\n",
       "구로구      4803432\n",
       "용산구      4155918\n",
       "금천구      4104314\n",
       "서대문구     4026569\n",
       "동대문구     3714319\n",
       "강동구      3689478\n",
       "관악구      3545026\n",
       "성북구      3371161\n",
       "노원구      3310315\n",
       "광진구      3232643\n",
       "동작구      2849174\n",
       "중랑구      2490320\n",
       "은평구      2355840\n",
       "양천구      2151386\n",
       "강북구      2114777\n",
       "도봉구      1645207\n",
       "Name: 이동인구(합), dtype: int64"
      ]
     },
     "execution_count": 34,
     "metadata": {},
     "output_type": "execute_result"
    }
   ],
   "source": [
    "desti"
   ]
  },
  {
   "cell_type": "code",
   "execution_count": 35,
   "id": "c8eb8462",
   "metadata": {},
   "outputs": [
    {
     "data": {
      "image/png": "[encoded data removed]",
      "text/plain": [
       "<Figure size 1000x1000 with 1 Axes>"
      ]
     },
     "metadata": {},
     "output_type": "display_data"
    }
   ],
   "source": [
    "plt.figure(figsize=(10,10))\n",
    "plt.bar(desti.index, desti.values, color='b')\n",
    "plt.xticks(rotation=90)\n",
    "plt.show()"
   ]
  },
  {
   "cell_type": "markdown",
   "id": "11e19d89",
   "metadata": {},
   "source": [
    "#### ** 지역별 출근인원 수는 강남이 눈에 띄게 많다는 것을 알 수 있다."
   ]
  },
  {
   "cell_type": "markdown",
   "id": "b1b31048",
   "metadata": {},
   "source": [
    "#### 지역별 출근 소요시간 평균"
   ]
  },
  {
   "cell_type": "code",
   "execution_count": 36,
   "id": "ed91d926",
   "metadata": {},
   "outputs": [],
   "source": [
    "desti_gtw = df.groupby('도착 지역명')['인구수반영 총 시간'].sum() / df.groupby('도착 지역명')['이동인구(합)'].sum()"
   ]
  },
  {
   "cell_type": "code",
   "execution_count": 37,
   "id": "24a4c06c",
   "metadata": {},
   "outputs": [],
   "source": [
    "desti_gtw.sort_values(ascending=False, inplace=True)"
   ]
  },
  {
   "cell_type": "code",
   "execution_count": 38,
   "id": "e1c92e7a",
   "metadata": {},
   "outputs": [
    {
     "data": {
      "image/png": "[encoded data removed]",
      "text/plain": [
       "<Figure size 1000x1000 with 1 Axes>"
      ]
     },
     "metadata": {},
     "output_type": "display_data"
    }
   ],
   "source": [
    "plt.figure(figsize=(10,10))\n",
    "plt.bar(desti_gtw.index, desti_gtw.values, color='y')\n",
    "plt.xticks(rotation=90)\n",
    "plt.show()"
   ]
  },
  {
   "cell_type": "markdown",
   "id": "c8d05ab5",
   "metadata": {},
   "source": [
    "#### ** 출근인원 수가 가장 많은 강남을 포함해서, 영등포구, 서초구 등도 출근인원이 많은데 출근소요시간도 긴 지역임을 알 수 있다."
   ]
  },
  {
   "cell_type": "code",
   "execution_count": 39,
   "id": "60914893",
   "metadata": {},
   "outputs": [
    {
     "name": "stdout",
     "output_type": "stream",
     "text": [
      "<class 'pandas.core.frame.DataFrame'>\n",
      "Index: 16016624 entries, 0 to 16016623\n",
      "Data columns (total 9 columns):\n",
      " #   Column       Non-Null Count     Dtype \n",
      "---  ------       --------------     ----- \n",
      " 0   대상연월         16016624 non-null  int64 \n",
      " 1   요일           16016624 non-null  object\n",
      " 2   성별           16016624 non-null  object\n",
      " 3   나이           16016624 non-null  int64 \n",
      " 4   평균 이동 시간(분)  16016624 non-null  int64 \n",
      " 5   이동인구(합)      16016624 non-null  int64 \n",
      " 6   출발 지역명       16016624 non-null  object\n",
      " 7   도착 지역명       16016624 non-null  object\n",
      " 8   인구수반영 총 시간   16016624 non-null  int64 \n",
      "dtypes: int64(5), object(4)\n",
      "memory usage: 1.2+ GB\n"
     ]
    }
   ],
   "source": [
    "df.info(show_counts=True)"
   ]
  },
  {
   "cell_type": "markdown",
   "id": "7d2ca770",
   "metadata": {},
   "source": [
    "### 각 column 들에 대해 평균을 계산하는 중요한 데이터인 '이동시간' 의 위치 통계량 파악"
   ]
  },
  {
   "cell_type": "code",
   "execution_count": 40,
   "id": "26ecee4c",
   "metadata": {
    "scrolled": true
   },
   "outputs": [
    {
     "data": {
      "image/png": "[encoded data removed]",
      "text/plain": [
       "<Figure size 640x480 with 1 Axes>"
      ]
     },
     "metadata": {},
     "output_type": "display_data"
    }
   ],
   "source": [
    "plt.boxplot(df['평균 이동 시간(분)'])\n",
    "plt.axhline(y=57.0, color='b', linewidth=1, linestyle='--', label='median')\n",
    "plt.legend()\n",
    "plt.show()"
   ]
  },
  {
   "cell_type": "code",
   "execution_count": 41,
   "id": "ce64035d",
   "metadata": {
    "scrolled": true
   },
   "outputs": [
    {
     "data": {
      "text/plain": [
       "57.0"
      ]
     },
     "execution_count": 41,
     "metadata": {},
     "output_type": "execute_result"
    }
   ],
   "source": [
    "np.median(df['평균 이동 시간(분)'])"
   ]
  },
  {
   "cell_type": "code",
   "execution_count": 42,
   "id": "d1128a8f",
   "metadata": {},
   "outputs": [
    {
     "data": {
      "text/plain": [
       "62.86928815903505"
      ]
     },
     "execution_count": 42,
     "metadata": {},
     "output_type": "execute_result"
    }
   ],
   "source": [
    "(df['평균 이동 시간(분)'] * df['이동인구(합)']).sum() / df['이동인구(합)'].sum()"
   ]
  },
  {
   "cell_type": "code",
   "execution_count": 43,
   "id": "6d77d93e",
   "metadata": {},
   "outputs": [
    {
     "data": {
      "text/plain": [
       "81.0"
      ]
     },
     "execution_count": 43,
     "metadata": {},
     "output_type": "execute_result"
    }
   ],
   "source": [
    "# 상사분위수\n",
    "Q3 = np.quantile(df['평균 이동 시간(분)'],0.75)  \n",
    "Q3"
   ]
  },
  {
   "cell_type": "code",
   "execution_count": 44,
   "id": "394203a3",
   "metadata": {
    "scrolled": false
   },
   "outputs": [
    {
     "data": {
      "text/plain": [
       "37.0"
      ]
     },
     "execution_count": 44,
     "metadata": {},
     "output_type": "execute_result"
    }
   ],
   "source": [
    "# 하사분위수\n",
    "Q1 = np.quantile(df['평균 이동 시간(분)'], 0.25) \n",
    "Q1"
   ]
  },
  {
   "cell_type": "code",
   "execution_count": 45,
   "id": "7b8aa625",
   "metadata": {},
   "outputs": [
    {
     "data": {
      "text/plain": [
       "147.0"
      ]
     },
     "execution_count": 45,
     "metadata": {},
     "output_type": "execute_result"
    }
   ],
   "source": [
    "u_whisker = Q3 + iqr(df['평균 이동 시간(분)']) * 1.5\n",
    "u_whisker"
   ]
  },
  {
   "cell_type": "markdown",
   "id": "23f8357c",
   "metadata": {},
   "source": [
    "#### ** 이동시간의 위치통계량(사분위수)를 파악 해 봄\n",
    "- 이동시간의 중앙값은 57분정도로 평균인 63분과 크게 차이나지 않는다.(평균값을 대표값으로 활용하는것이 크게 문제되지 않는다)\n",
    "- Q3-Q1로 계산되는 IQR 구간과 upper whisker, lower whisker간의 차이를 보았을 때\n",
    "- 아래보다 위의 차이가 큰 것으로 보아, Q3 위로 분포한 출근시간이 많이 소요되는 사람들의 시간 분포가 더 넓게 형성 되어있다(아래쪽 데이터에 조금 더 무게중심이 치우친, 위쪽으로 꼬리가 있는 모양)는 것을 알 수 있으며\n",
    "- upper whisker 값인 147분 이상의 값은 그래프에서 이상치로 분류될 만큼 일반적인 사람들 보다 긴 시간을 출근시간에 소요하고 있다는 것을 알 수 있다."
   ]
  },
  {
   "cell_type": "markdown",
   "id": "bf4a66e6",
   "metadata": {},
   "source": [
    "#### 바이올린 플롯으로 데이터 분포 모양을 한번 봐보자\n",
    "- 데이터의 양이 많아서 한 곳에 같이 그리면 boxplot이 잘 안보임"
   ]
  },
  {
   "cell_type": "code",
   "execution_count": 46,
   "id": "01debbae",
   "metadata": {
    "scrolled": true
   },
   "outputs": [
    {
     "data": {
      "text/plain": [
       "<Axes: >"
      ]
     },
     "execution_count": 46,
     "metadata": {},
     "output_type": "execute_result"
    },
    {
     "data": {
      "image/png": "[encoded data removed]",
      "text/plain": [
       "<Figure size 640x480 with 1 Axes>"
      ]
     },
     "metadata": {},
     "output_type": "display_data"
    }
   ],
   "source": [
    "sns.violinplot(df['평균 이동 시간(분)'])"
   ]
  },
  {
   "cell_type": "markdown",
   "id": "90a2f6bd",
   "metadata": {},
   "source": [
    "## ~column 별 데이터들을 간단하게 살펴본 결과의 정리 및 결론\n"
   ]
  },
  {
   "cell_type": "markdown",
   "id": "87637859",
   "metadata": {},
   "source": [
    "### 결국은 각 column의 조건 별 출근 인원수와 평균적인 출근 소요시간의 차이가 있는지를 간단하게 살펴본 것\n",
    "\n",
    "1. 요일별 출근인원수는 월,금에 비교적 적고 나머지는 비슷하며, 출근 소요시간의 차이는 없다. 일반적으로 월요일과 금요일에 연차를 많이 사용하는 상식과 통하는 결과\n",
    "2. 성별에 따른 차이는 출근인원수는 적은 차이지만 여성이 더 많이 출근을 한다. 이는 제조업과 같이 남성 비율이 높은 기업들이 서울외 타 지역에 있는 경우가 많아서 그럴 것이라는 개인적인 추측. 출근 소요시간은 미세하지만 평균 5분정도 남성이 더 길게 소요한다.\n",
    "3. 나이별 출근인원수는 25 ~ 54세의 사회활동을 가잘 활발이 하는 나이대라는 기존 상식과 맞아 떨어지는 결과. 출근 소요시간은 나이대가 높아질 수록 점점 줄어드는 경향. 20 ~ 24세는 대학생이 많아 자취와 기숙사 생활을 하는 경우가 있어 상대적으로 출근 소요시간이 짧다는 분석.\n",
    "4. 대상연월별 column 은 데이터를 4 ~ 6월 3개월간의 데이터인데, 휴가철이나 연말 연초 데이터가 아니라 당연하게도 출근인원수와 출근 소요시간에서 어떠한 특이점도 없음.\n",
    "<br><br><br>\n",
    "5. 지역별 출근인원수는 강남구, 중구, 서초구, 영등포구, 송파구 순으로 많았으며, 출근 소요시간은 강남구, 금천구, 영등포구, 중구, 서초구 순으로 길었다. <b>해당 column에 대한 분석이 분석 방향에 가장 중요한 부분이며, 해당 컬럼에 대한 추가적인 시각화와 분석을 진행할 계획</b>"
   ]
  },
  {
   "cell_type": "markdown",
   "id": "49627138",
   "metadata": {},
   "source": [
    "### 결론속의 결론\n",
    "- 요일별, 성별, 나이별, 대상연월별 column은 기존 상식에서 벗어나지 않은 결과 (그래도 데이터를 통해 알고있는 것을 다시 확인하니 좋음)\n",
    "- 지역별 차이를 중점적으로 시각화 및 분석예정"
   ]
  },
  {
   "cell_type": "markdown",
   "id": "0967ce98",
   "metadata": {},
   "source": [
    "#### 다음 보고서에 지역별 차이를 중심으로 분석을 진행하겠습니다."
   ]
  },
  {
   "cell_type": "code",
   "execution_count": 47,
   "id": "b4c49a4b",
   "metadata": {},
   "outputs": [],
   "source": [
    "# df.to_csv('./data/서울생활이동_데이터살피기.csv')"
   ]
  }
 ],
 "metadata": {
  "kernelspec": {
   "display_name": "Python 3 (ipykernel)",
   "language": "python",
   "name": "python3"
  },
  "language_info": {
   "codemirror_mode": {
    "name": "ipython",
    "version": 3
   },
   "file_extension": ".py",
   "mimetype": "text/x-python",
   "name": "python",
   "nbconvert_exporter": "python",
   "pygments_lexer": "ipython3",
   "version": "3.11.3"
  }
 },
 "nbformat": 4,
 "nbformat_minor": 5
}
